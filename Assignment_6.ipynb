{
 "cells": [
  {
   "cell_type": "code",
   "execution_count": 1,
   "id": "d8285a0f",
   "metadata": {},
   "outputs": [],
   "source": [
    "# Questions\n",
    "\n",
    "#1. What are escape characters, and how do you use them?\n",
    "#2. What do the escape characters n and t stand for?\n",
    "#3. What is the way to include backslash characters in a string?\n",
    "#4. The string \"Howl's Moving Castle\" is a correct value. Why isn't the single quote character in the word Howl's not escaped a problem?\n",
    "#5. How do you write a string of newlines if you don't want to use the n character?\n",
    "#6. What are the values of the given expressions?\n",
    "#'Hello, world!'[1]\n",
    "#'Hello, world!'[0:5]\n",
    "#'Hello, world!'[:5]\n",
    "#'Hello, world!'[3:]\n",
    "\n",
    "#7. What are the values of the following expressions?\n",
    "#'Hello'.upper()\n",
    "#'Hello'.upper().isupper()\n",
    "#'Hello'.upper().lower()\n",
    "#8. What are the values of the following expressions?\n",
    "#'Remember, remember, the fifth of July.'.split()\n",
    "#'-'.join('There can only one.'.split())\n",
    "#9. What are the methods for right-justifying, left-justifying, and centering a string?\n",
    "#10. What is the best way to remove whitespace characters from the start or end?\n",
    "\n"
   ]
  },
  {
   "cell_type": "code",
   "execution_count": 6,
   "id": "8ed1a95f",
   "metadata": {},
   "outputs": [
    {
     "ename": "SyntaxError",
     "evalue": "invalid syntax (3128043948.py, line 5)",
     "output_type": "error",
     "traceback": [
      "\u001b[1;36m  Input \u001b[1;32mIn [6]\u001b[1;36m\u001b[0m\n\u001b[1;33m    txt = \"My name is \"ravindra\" and i am pursuing a data science.\"\u001b[0m\n\u001b[1;37m                       ^\u001b[0m\n\u001b[1;31mSyntaxError\u001b[0m\u001b[1;31m:\u001b[0m invalid syntax\n"
     ]
    }
   ],
   "source": [
    "#Q1 \n",
    "# Escape character are the backslash \n",
    "\n",
    "\n",
    "txt = \"My name is \"ravindra\" and i am pursuing a data science.\""
   ]
  },
  {
   "cell_type": "code",
   "execution_count": 8,
   "id": "002e7887",
   "metadata": {},
   "outputs": [
    {
     "data": {
      "text/plain": [
       "'My name is \"ravindra\" and i am pursuing a data science.'"
      ]
     },
     "execution_count": 8,
     "metadata": {},
     "output_type": "execute_result"
    }
   ],
   "source": [
    "txt = \"My name is \\\"ravindra\\\" and i am pursuing a data science.\"\n",
    "txt"
   ]
  },
  {
   "cell_type": "code",
   "execution_count": 10,
   "id": "798c1e77",
   "metadata": {},
   "outputs": [],
   "source": [
    "#Q2 \n",
    "\n",
    "# \\n = new line \n",
    "# \\t = Tab"
   ]
  },
  {
   "cell_type": "code",
   "execution_count": 13,
   "id": "c698f9a5",
   "metadata": {},
   "outputs": [
    {
     "name": "stdout",
     "output_type": "stream",
     "text": [
      "hello my friends\n",
      " how are you\n",
      "hey\tbro\n"
     ]
    }
   ],
   "source": [
    "print(\"hello my friends\\n how are you\")\n",
    "print(\"hey\\tbro\")"
   ]
  },
  {
   "cell_type": "code",
   "execution_count": 14,
   "id": "64660066",
   "metadata": {},
   "outputs": [],
   "source": [
    "# Q4\n",
    "a = \"Howl's Moving Castle\" "
   ]
  },
  {
   "cell_type": "code",
   "execution_count": 15,
   "id": "a37242ef",
   "metadata": {},
   "outputs": [
    {
     "data": {
      "text/plain": [
       "\"Howl's Moving Castle\""
      ]
     },
     "execution_count": 15,
     "metadata": {},
     "output_type": "execute_result"
    }
   ],
   "source": [
    "a"
   ]
  },
  {
   "cell_type": "code",
   "execution_count": 16,
   "id": "6aa680b1",
   "metadata": {},
   "outputs": [
    {
     "name": "stdout",
     "output_type": "stream",
     "text": [
      "physical\r\n",
      "distancing\n"
     ]
    }
   ],
   "source": [
    "#Q5 \n",
    "\n",
    "import os\n",
    "keyword = 'physical'+ os.linesep + 'distancing'\n",
    "print(keyword)"
   ]
  },
  {
   "cell_type": "code",
   "execution_count": 19,
   "id": "dd5f1d11",
   "metadata": {},
   "outputs": [
    {
     "data": {
      "text/plain": [
       "'e'"
      ]
     },
     "execution_count": 19,
     "metadata": {},
     "output_type": "execute_result"
    }
   ],
   "source": [
    "#Q6 \n",
    "\n",
    "'Hello, world!'[1]\n"
   ]
  },
  {
   "cell_type": "code",
   "execution_count": 20,
   "id": "c3b63db4",
   "metadata": {},
   "outputs": [
    {
     "data": {
      "text/plain": [
       "'Hello'"
      ]
     },
     "execution_count": 20,
     "metadata": {},
     "output_type": "execute_result"
    }
   ],
   "source": [
    "'Hello, world!'[0:5]\n"
   ]
  },
  {
   "cell_type": "code",
   "execution_count": 21,
   "id": "b91a95b6",
   "metadata": {},
   "outputs": [
    {
     "data": {
      "text/plain": [
       "'Hello'"
      ]
     },
     "execution_count": 21,
     "metadata": {},
     "output_type": "execute_result"
    }
   ],
   "source": [
    "'Hello, world!'[:5]\n"
   ]
  },
  {
   "cell_type": "code",
   "execution_count": 22,
   "id": "3d1b0442",
   "metadata": {},
   "outputs": [
    {
     "data": {
      "text/plain": [
       "'lo, world!'"
      ]
     },
     "execution_count": 22,
     "metadata": {},
     "output_type": "execute_result"
    }
   ],
   "source": [
    "'Hello, world!'[3:]"
   ]
  },
  {
   "cell_type": "code",
   "execution_count": 23,
   "id": "62c96a3f",
   "metadata": {},
   "outputs": [
    {
     "data": {
      "text/plain": [
       "'HELLO'"
      ]
     },
     "execution_count": 23,
     "metadata": {},
     "output_type": "execute_result"
    }
   ],
   "source": [
    "#q7\n",
    "\n",
    "'Hello'.upper()\n"
   ]
  },
  {
   "cell_type": "code",
   "execution_count": 24,
   "id": "c650d948",
   "metadata": {},
   "outputs": [
    {
     "data": {
      "text/plain": [
       "True"
      ]
     },
     "execution_count": 24,
     "metadata": {},
     "output_type": "execute_result"
    }
   ],
   "source": [
    "'Hello'.upper().isupper()\n"
   ]
  },
  {
   "cell_type": "code",
   "execution_count": 25,
   "id": "3b621b7e",
   "metadata": {},
   "outputs": [
    {
     "data": {
      "text/plain": [
       "'hello'"
      ]
     },
     "execution_count": 25,
     "metadata": {},
     "output_type": "execute_result"
    }
   ],
   "source": [
    "'Hello'.upper().lower()"
   ]
  },
  {
   "cell_type": "code",
   "execution_count": 26,
   "id": "a45d18bd",
   "metadata": {},
   "outputs": [
    {
     "data": {
      "text/plain": [
       "['Remember,', 'remember,', 'the', 'fifth', 'of', 'July.']"
      ]
     },
     "execution_count": 26,
     "metadata": {},
     "output_type": "execute_result"
    }
   ],
   "source": [
    "#Q8\n",
    "\n",
    "'Remember, remember, the fifth of July.'.split()\n"
   ]
  },
  {
   "cell_type": "code",
   "execution_count": 27,
   "id": "962c8b55",
   "metadata": {},
   "outputs": [
    {
     "data": {
      "text/plain": [
       "'There-can-only-one.'"
      ]
     },
     "execution_count": 27,
     "metadata": {},
     "output_type": "execute_result"
    }
   ],
   "source": [
    "'-'.join('There can only one.'.split())"
   ]
  },
  {
   "cell_type": "code",
   "execution_count": 35,
   "id": "a123b766",
   "metadata": {},
   "outputs": [
    {
     "name": "stdout",
     "output_type": "stream",
     "text": [
      "Right-justified string:               Python\n"
     ]
    }
   ],
   "source": [
    "#Q9\n",
    "txt1 = \"Python\"\n",
    "r = txt1.rjust(20)\n",
    "print('Right-justified string:', r)\n"
   ]
  },
  {
   "cell_type": "code",
   "execution_count": 40,
   "id": "f8e7b13f",
   "metadata": {},
   "outputs": [
    {
     "name": "stdout",
     "output_type": "stream",
     "text": [
      "Left-justified string: Ravindra  \n"
     ]
    }
   ],
   "source": [
    "txt1 = \"Ravindra\"\n",
    "r = txt1.ljust(10)\n",
    "print('Left-justified string:', r)"
   ]
  },
  {
   "cell_type": "code",
   "execution_count": null,
   "id": "7b3d711a",
   "metadata": {},
   "outputs": [],
   "source": [
    "#Q10\n",
    "\n",
    "#  use strip()"
   ]
  }
 ],
 "metadata": {
  "kernelspec": {
   "display_name": "Python 3 (ipykernel)",
   "language": "python",
   "name": "python3"
  },
  "language_info": {
   "codemirror_mode": {
    "name": "ipython",
    "version": 3
   },
   "file_extension": ".py",
   "mimetype": "text/x-python",
   "name": "python",
   "nbconvert_exporter": "python",
   "pygments_lexer": "ipython3",
   "version": "3.9.12"
  }
 },
 "nbformat": 4,
 "nbformat_minor": 5
}
