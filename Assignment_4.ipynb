{
 "cells": [
  {
   "cell_type": "code",
   "execution_count": 1,
   "id": "4cd2c8e4",
   "metadata": {},
   "outputs": [],
   "source": [
    "#Q1\n",
    "\n",
    "# This is empty list"
   ]
  },
  {
   "cell_type": "code",
   "execution_count": 2,
   "id": "aa5501d4",
   "metadata": {},
   "outputs": [],
   "source": [
    "#Q2\n",
    "\n",
    "# spam[3] = Hello"
   ]
  },
  {
   "cell_type": "code",
   "execution_count": 4,
   "id": "1dd072e1",
   "metadata": {},
   "outputs": [
    {
     "data": {
      "text/plain": [
       "'d'"
      ]
     },
     "execution_count": 4,
     "metadata": {},
     "output_type": "execute_result"
    }
   ],
   "source": [
    "#Q3\n",
    "\n",
    "spam = [\"a\",\"b\",\"c\",\"d\"]\n",
    "spam[int(int('3' * 2) / 11)]"
   ]
  },
  {
   "cell_type": "code",
   "execution_count": 5,
   "id": "3b78323f",
   "metadata": {},
   "outputs": [
    {
     "data": {
      "text/plain": [
       "'d'"
      ]
     },
     "execution_count": 5,
     "metadata": {},
     "output_type": "execute_result"
    }
   ],
   "source": [
    "#Q4\n",
    "\n",
    "spam[-1]"
   ]
  },
  {
   "cell_type": "code",
   "execution_count": 6,
   "id": "2dc2ed1e",
   "metadata": {},
   "outputs": [
    {
     "data": {
      "text/plain": [
       "['a', 'b']"
      ]
     },
     "execution_count": 6,
     "metadata": {},
     "output_type": "execute_result"
    }
   ],
   "source": [
    "#Q5\n",
    "\n",
    "spam[:2]"
   ]
  },
  {
   "cell_type": "code",
   "execution_count": 20,
   "id": "75cdc590",
   "metadata": {},
   "outputs": [
    {
     "data": {
      "text/plain": [
       "1"
      ]
     },
     "execution_count": 20,
     "metadata": {},
     "output_type": "execute_result"
    }
   ],
   "source": [
    "#Q6\n",
    "\n",
    "bacon = [3.14,\"cat\",11,\"cat\",True]\n",
    "bacon.index(\"cat\")"
   ]
  },
  {
   "cell_type": "code",
   "execution_count": 21,
   "id": "fb391ff8",
   "metadata": {},
   "outputs": [
    {
     "data": {
      "text/plain": [
       "[3.14, 'cat', 11, 'cat', True, 99]"
      ]
     },
     "execution_count": 21,
     "metadata": {},
     "output_type": "execute_result"
    }
   ],
   "source": [
    "#Q7\n",
    "\n",
    "bacon.append(99)\n",
    "bacon"
   ]
  },
  {
   "cell_type": "code",
   "execution_count": 23,
   "id": "7de3564b",
   "metadata": {},
   "outputs": [
    {
     "data": {
      "text/plain": [
       "[3.14, 11, True, 99]"
      ]
     },
     "execution_count": 23,
     "metadata": {},
     "output_type": "execute_result"
    }
   ],
   "source": [
    "#Q8\n",
    "\n",
    "bacon.remove(\"cat\")\n",
    "bacon\n",
    "\n",
    "# two cat variables are removed"
   ]
  },
  {
   "cell_type": "code",
   "execution_count": 30,
   "id": "ba2becc6",
   "metadata": {},
   "outputs": [
    {
     "name": "stdout",
     "output_type": "stream",
     "text": [
      "[[1, 2, 3], [4, 5, 6]]\n",
      "[[2, 4, 6], [2, 4, 6]]\n"
     ]
    }
   ],
   "source": [
    "#Q9\n",
    "#List \n",
    "\n",
    "l1 = [1,2,3]\n",
    "l2 = [4,5,6]\n",
    "\n",
    "print( [l1]+[l2])\n",
    "\n",
    "l3 =[2,4,6]\n",
    "print([l3]*2)"
   ]
  },
  {
   "cell_type": "code",
   "execution_count": 34,
   "id": "37398c2b",
   "metadata": {},
   "outputs": [
    {
     "data": {
      "text/plain": [
       "['hiii', 'ravi', 2331, 'kumbhar', True, [1, 2, 3], 32323, 'sgm', 'hello']"
      ]
     },
     "execution_count": 34,
     "metadata": {},
     "output_type": "execute_result"
    }
   ],
   "source": [
    "#Q10\n",
    "\n",
    "l_1 = [\"ravi\", 2331, \"kumbhar\", True ,[1,2,3],32323,\"sgm\"]\n",
    "l_1.append(\"hello\")\n",
    "l_1.insert(0,\"hiii\")\n",
    "\n",
    "l_1\n",
    "\n",
    "\n",
    "# append = in this function the values are goes to the end of the list\n",
    "# insert = in this function two arguments are requied and we append value any of the index. \n",
    "           "
   ]
  },
  {
   "cell_type": "code",
   "execution_count": 43,
   "id": "136d04cd",
   "metadata": {},
   "outputs": [
    {
     "data": {
      "text/plain": [
       "['ravi', 'kumbhar', True, [1, 2, 3], 32323, 'sgm', 'hello']"
      ]
     },
     "execution_count": 43,
     "metadata": {},
     "output_type": "execute_result"
    }
   ],
   "source": [
    "#Q11\n",
    "\n",
    "l_1"
   ]
  },
  {
   "cell_type": "code",
   "execution_count": 44,
   "id": "174caaea",
   "metadata": {},
   "outputs": [
    {
     "data": {
      "text/plain": [
       "['ravi', 'kumbhar', True, [1, 2, 3], 32323, 'sgm']"
      ]
     },
     "execution_count": 44,
     "metadata": {},
     "output_type": "execute_result"
    }
   ],
   "source": [
    "l_1.remove(\"hello\")\n",
    "l_1"
   ]
  },
  {
   "cell_type": "code",
   "execution_count": 45,
   "id": "005c7bd7",
   "metadata": {},
   "outputs": [],
   "source": [
    "#Q12\n",
    "\n",
    "# both are passed to len() and both are concanited and replicaed"
   ]
  },
  {
   "cell_type": "code",
   "execution_count": 46,
   "id": "27fcc928",
   "metadata": {},
   "outputs": [],
   "source": [
    "#Q13\n",
    "\n",
    "# List objects are mutable i.e we are able to replace the data\n",
    "# Tuples are immutable i.e we can not replace the data"
   ]
  },
  {
   "cell_type": "code",
   "execution_count": 50,
   "id": "fb9b62d5",
   "metadata": {},
   "outputs": [
    {
     "data": {
      "text/plain": [
       "44"
      ]
     },
     "execution_count": 50,
     "metadata": {},
     "output_type": "execute_result"
    }
   ],
   "source": [
    "#Q14\n",
    "\n",
    "t1 = (44)\n",
    "t1\n"
   ]
  },
  {
   "cell_type": "code",
   "execution_count": 53,
   "id": "e7b0d01b",
   "metadata": {},
   "outputs": [
    {
     "name": "stdout",
     "output_type": "stream",
     "text": [
      "(1, 2, 3, 4)\n"
     ]
    }
   ],
   "source": [
    "#Q15\n",
    "\n",
    "l1 =[1,2,3,4]\n",
    "def convert(l1):\n",
    "    return tuple(i for i in l1)\n",
    "print(convert(l1))"
   ]
  },
  {
   "cell_type": "code",
   "execution_count": 54,
   "id": "6999a182",
   "metadata": {},
   "outputs": [
    {
     "data": {
      "text/plain": [
       "['ravi', 2, 3, 4, 'dwrsd', True, [1, 2, 3, 3]]"
      ]
     },
     "execution_count": 54,
     "metadata": {},
     "output_type": "execute_result"
    }
   ],
   "source": [
    "t = (\"ravi\",2,3,4,\"dwrsd\", True,[1,2,3,3])\n",
    "l2 = list(t)\n",
    "l2\n"
   ]
  },
  {
   "cell_type": "code",
   "execution_count": 55,
   "id": "3c52cf98",
   "metadata": {},
   "outputs": [],
   "source": [
    "#Q16\n",
    "\n"
   ]
  },
  {
   "cell_type": "code",
   "execution_count": 58,
   "id": "e00852b6",
   "metadata": {},
   "outputs": [],
   "source": [
    "#Q17\n",
    "\n",
    "# The copy() returns a shallow copy of the list, and deepcopy() returns a deep copy of the list"
   ]
  },
  {
   "cell_type": "code",
   "execution_count": null,
   "id": "09a57cec",
   "metadata": {},
   "outputs": [],
   "source": []
  }
 ],
 "metadata": {
  "kernelspec": {
   "display_name": "Python 3 (ipykernel)",
   "language": "python",
   "name": "python3"
  },
  "language_info": {
   "codemirror_mode": {
    "name": "ipython",
    "version": 3
   },
   "file_extension": ".py",
   "mimetype": "text/x-python",
   "name": "python",
   "nbconvert_exporter": "python",
   "pygments_lexer": "ipython3",
   "version": "3.9.12"
  }
 },
 "nbformat": 4,
 "nbformat_minor": 5
}
