{
 "cells": [
  {
   "cell_type": "code",
   "execution_count": 1,
   "id": "b28d040d",
   "metadata": {},
   "outputs": [],
   "source": [
    "#Q1 What does an empty dictionary's code look like?\n",
    "\n",
    "empty_dict = {}"
   ]
  },
  {
   "cell_type": "code",
   "execution_count": 3,
   "id": "b2983e9a",
   "metadata": {},
   "outputs": [
    {
     "data": {
      "text/plain": [
       "{'foo': 42}"
      ]
     },
     "execution_count": 3,
     "metadata": {},
     "output_type": "execute_result"
    }
   ],
   "source": [
    "#Q2 What does a dictionary value with a key 'foo' and a value 42 look like?\n",
    "\n",
    "my_dict = {\"foo\":42}\n",
    "my_dict"
   ]
  },
  {
   "cell_type": "code",
   "execution_count": 4,
   "id": "9daa6e5a",
   "metadata": {},
   "outputs": [],
   "source": [
    "#Q3 What is the main difference between a dictionary and a list?\n",
    "\n",
    "#List items have a order and dict items dont have a order"
   ]
  },
  {
   "cell_type": "code",
   "execution_count": 8,
   "id": "9132d420",
   "metadata": {},
   "outputs": [
    {
     "ename": "KeyError",
     "evalue": "'foo'",
     "output_type": "error",
     "traceback": [
      "\u001b[1;31m---------------------------------------------------------------------------\u001b[0m",
      "\u001b[1;31mKeyError\u001b[0m                                  Traceback (most recent call last)",
      "Input \u001b[1;32mIn [8]\u001b[0m, in \u001b[0;36m<cell line: 4>\u001b[1;34m()\u001b[0m\n\u001b[0;32m      1\u001b[0m \u001b[38;5;66;03m#Q4\u001b[39;00m\n\u001b[0;32m      3\u001b[0m spam \u001b[38;5;241m=\u001b[39m{\u001b[38;5;124m\"\u001b[39m\u001b[38;5;124mbar\u001b[39m\u001b[38;5;124m\"\u001b[39m:\u001b[38;5;241m100\u001b[39m}\n\u001b[1;32m----> 4\u001b[0m \u001b[43mspam\u001b[49m\u001b[43m[\u001b[49m\u001b[38;5;124;43m\"\u001b[39;49m\u001b[38;5;124;43mfoo\u001b[39;49m\u001b[38;5;124;43m\"\u001b[39;49m\u001b[43m]\u001b[49m\n",
      "\u001b[1;31mKeyError\u001b[0m: 'foo'"
     ]
    }
   ],
   "source": [
    "#Q4 What happens if you try to access spam['foo'] if spam is {'bar': 100}?\n",
    "\n",
    "spam ={\"bar\":100}\n",
    "spam[\"foo\"]\n",
    "\n",
    "# KeyError "
   ]
  },
  {
   "cell_type": "code",
   "execution_count": 9,
   "id": "53c57040",
   "metadata": {},
   "outputs": [],
   "source": [
    "#Q5 \n",
    "##  If a dictionary is stored in spam, what is the difference between the expressions 'cat' in spam and 'cat' in spam.keys()?\n",
    "\n",
    "\n",
    "# check the cat is in the spam \n",
    "\n"
   ]
  },
  {
   "cell_type": "code",
   "execution_count": 10,
   "id": "ea21165e",
   "metadata": {},
   "outputs": [],
   "source": [
    "#Q6 If a dictionary is stored in spam, what is the difference between the expressions 'cat' in spam and 'cat' in spam.values()?\n",
    "\n",
    "\n",
    "# check the cat is a value in spam\n",
    "\n"
   ]
  },
  {
   "cell_type": "code",
   "execution_count": 11,
   "id": "469d284b",
   "metadata": {},
   "outputs": [
    {
     "data": {
      "text/plain": [
       "'black'"
      ]
     },
     "execution_count": 11,
     "metadata": {},
     "output_type": "execute_result"
    }
   ],
   "source": [
    "#Q7 What is a shortcut for the following code?\n",
    "\n",
    "\n",
    "spam[\"color\"] = \"black\"\n",
    "spam.setdefault(\"color\", \"black\")"
   ]
  },
  {
   "cell_type": "code",
   "execution_count": 12,
   "id": "b4beff1a",
   "metadata": {},
   "outputs": [
    {
     "ename": "NameError",
     "evalue": "name 'pprint' is not defined",
     "output_type": "error",
     "traceback": [
      "\u001b[1;31m---------------------------------------------------------------------------\u001b[0m",
      "\u001b[1;31mNameError\u001b[0m                                 Traceback (most recent call last)",
      "Input \u001b[1;32mIn [12]\u001b[0m, in \u001b[0;36m<cell line: 3>\u001b[1;34m()\u001b[0m\n\u001b[0;32m      1\u001b[0m \u001b[38;5;66;03m#Q8\u001b[39;00m\n\u001b[1;32m----> 3\u001b[0m \u001b[43mpprint\u001b[49m\u001b[38;5;241m.\u001b[39mpprint()\n",
      "\u001b[1;31mNameError\u001b[0m: name 'pprint' is not defined"
     ]
    }
   ],
   "source": [
    "#Q8   What module and function can be used to “pretty print” dictionary values?\n",
    "\n",
    "pprint.pprint()"
   ]
  },
  {
   "cell_type": "code",
   "execution_count": null,
   "id": "2365aa1d",
   "metadata": {},
   "outputs": [],
   "source": []
  }
 ],
 "metadata": {
  "kernelspec": {
   "display_name": "Python 3 (ipykernel)",
   "language": "python",
   "name": "python3"
  },
  "language_info": {
   "codemirror_mode": {
    "name": "ipython",
    "version": 3
   },
   "file_extension": ".py",
   "mimetype": "text/x-python",
   "name": "python",
   "nbconvert_exporter": "python",
   "pygments_lexer": "ipython3",
   "version": "3.9.12"
  }
 },
 "nbformat": 4,
 "nbformat_minor": 5
}
