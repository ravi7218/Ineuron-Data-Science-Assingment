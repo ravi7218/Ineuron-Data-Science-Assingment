{
 "cells": [
  {
   "cell_type": "markdown",
   "id": "d8941933",
   "metadata": {},
   "source": [
    "# Assignment_7\n",
    "1. What is the name of the feature responsible for generating Regex objects?\n",
    "2. Why do raw strings often appear in Regex objects?\n",
    "3. What is the return value of the search() method?\n",
    "4. From a Match item, how do you get the actual strings that match the pattern?\n",
    "5. In the regex which created from the r'(\\d\\d\\d)-(\\d\\d\\d-\\d\\d\\d\\d)', what does group zero cover? Group 2? Group 1?\n",
    "6. In standard expression syntax, parentheses and intervals have distinct meanings. How can you tell a regex that you want it to fit real parentheses and periods?\n",
    "7. The findall() method returns a string list or a list of string tuples. What causes it to return one of the two options?\n",
    "8. In standard expressions, what does the | character mean?\n",
    "9. In regular expressions, what does the character stand for?\n",
    "10.In regular expressions, what is the difference between the + and * characters?\n",
    "11. What is the difference between {4} and {4,5} in regular expression?\n",
    "12. What do you mean by the \\d, \\w, and \\s shorthand character classes signify in regular expressions?\n",
    "13. What do means by \\D, \\W, and \\S shorthand character classes signify in regular expressions?\n",
    "14. What is the difference between .*? and .*?\n",
    "15. What is the syntax for matching both numbers and lowercase letters with a character class?\n",
    "16. What is the procedure for making a normal expression in regax case insensitive?\n",
    "17. What does the . character normally match? What does it match if re.DOTALL is passed as 2nd argument in re.compile()?\n",
    "18. If numReg = re.compile(r'\\d+'), what will numRegex.sub('X', '11 drummers, 10 pipers, five rings, 4 hen') return?\n",
    "19. What does passing re.VERBOSE as the 2nd argument to re.compile() allow to do?\n",
    "20. How would you write a regex that match a number with comma for every three digits? It must match the given following:\n",
    "'42'\n",
    "'1,234'\n",
    "'6,368,745'\n",
    "but not the following:\n",
    "'12,34,567' (which has only two digits between the commas)\n",
    "'1234' (which lacks commas)\n",
    "21. How would you write a regex that matches the full name of someone whose last name is Watanabe? You can assume that the first name that comes before it will always be one word that begins with a capital letter. The regex must match the following:\n",
    "'Haruto Watanabe'\n",
    "'Alice Watanabe'\n",
    "'RoboCop Watanabe'\n",
    "but not the following:\n",
    "'haruto Watanabe' (where the first name is not capitalized)\n",
    "'Mr. Watanabe' (where the preceding word has a nonletter character)\n",
    "'Watanabe' (which has no first name)\n",
    "'Haruto watanabe' (where Watanabe is not capitalized)\n",
    "22. How would you write a regex that matches a sentence where the first word is either Alice, Bob, or Carol; the second word is either eats, pets, or throws; the third word is apples, cats, or baseballs; and the sentence ends with a period? This regex should be case-insensitive. It must match the following:\n",
    "'Alice eats apples.'\n",
    "'Bob pets cats.'\n",
    "'Carol throws baseballs.'\n",
    "'Alice throws Apples.'\n",
    "'BOB EATS CATS.'\n",
    "but not the following:\n",
    "'RoboCop eats apples.'\n",
    "'ALICE THROWS FOOTBALLS.'\n",
    "'Carol eats 7 cats.'\n",
    "\n"
   ]
  },
  {
   "cell_type": "code",
   "execution_count": 1,
   "id": "8c8a3cd6",
   "metadata": {},
   "outputs": [],
   "source": [
    "#Q1"
   ]
  },
  {
   "cell_type": "code",
   "execution_count": 2,
   "id": "c4588630",
   "metadata": {},
   "outputs": [],
   "source": [
    "# re.complie() returns the Regex objects."
   ]
  },
  {
   "cell_type": "code",
   "execution_count": null,
   "id": "d022872f",
   "metadata": {},
   "outputs": [],
   "source": []
  },
  {
   "cell_type": "code",
   "execution_count": 3,
   "id": "8e29a5f0",
   "metadata": {},
   "outputs": [],
   "source": [
    "#Q2"
   ]
  },
  {
   "cell_type": "code",
   "execution_count": 4,
   "id": "043dc8fc",
   "metadata": {},
   "outputs": [],
   "source": [
    "# Raw strings are used so that backslashes do not have to be escaped."
   ]
  },
  {
   "cell_type": "code",
   "execution_count": null,
   "id": "11bd5acf",
   "metadata": {},
   "outputs": [],
   "source": []
  },
  {
   "cell_type": "code",
   "execution_count": 5,
   "id": "6b737c78",
   "metadata": {},
   "outputs": [],
   "source": [
    "#3"
   ]
  },
  {
   "cell_type": "code",
   "execution_count": 6,
   "id": "edfd4ad7",
   "metadata": {},
   "outputs": [],
   "source": [
    "# the search method returns match objects."
   ]
  },
  {
   "cell_type": "code",
   "execution_count": null,
   "id": "706c98be",
   "metadata": {},
   "outputs": [],
   "source": []
  },
  {
   "cell_type": "code",
   "execution_count": 7,
   "id": "b6afd5f5",
   "metadata": {},
   "outputs": [],
   "source": [
    "#4"
   ]
  },
  {
   "cell_type": "code",
   "execution_count": 8,
   "id": "bd480505",
   "metadata": {},
   "outputs": [],
   "source": [
    "# the group method ."
   ]
  },
  {
   "cell_type": "code",
   "execution_count": 9,
   "id": "30788973",
   "metadata": {},
   "outputs": [],
   "source": [
    "#5 "
   ]
  },
  {
   "cell_type": "code",
   "execution_count": 10,
   "id": "0f5010d4",
   "metadata": {},
   "outputs": [],
   "source": [
    "# # group o is the entire match, group 1 covers the first set of parentheses,\n",
    "# and group 2 covers the second set  of parentheses."
   ]
  },
  {
   "cell_type": "code",
   "execution_count": 11,
   "id": "58baf016",
   "metadata": {},
   "outputs": [],
   "source": [
    "#6"
   ]
  },
  {
   "cell_type": "code",
   "execution_count": 12,
   "id": "651be7aa",
   "metadata": {},
   "outputs": [],
   "source": [
    "# period and parentheses can be escaped with a backslash: \\., \\(,and\\)"
   ]
  },
  {
   "cell_type": "code",
   "execution_count": 13,
   "id": "cea16b8d",
   "metadata": {},
   "outputs": [],
   "source": [
    "#7"
   ]
  },
  {
   "cell_type": "code",
   "execution_count": 14,
   "id": "0047068b",
   "metadata": {},
   "outputs": [],
   "source": [
    "# if regex has no groups , a list of strings is returned. if the regex has \n",
    "# groups , a list of tuples of strings is returned."
   ]
  },
  {
   "cell_type": "code",
   "execution_count": 15,
   "id": "01d68682",
   "metadata": {},
   "outputs": [],
   "source": [
    "#8"
   ]
  },
  {
   "cell_type": "code",
   "execution_count": 16,
   "id": "cbb8a89c",
   "metadata": {},
   "outputs": [],
   "source": [
    "# the I character signifiesmatching \"either, or\" between two groups."
   ]
  },
  {
   "cell_type": "code",
   "execution_count": 17,
   "id": "a6e9a085",
   "metadata": {},
   "outputs": [],
   "source": [
    "#9"
   ]
  },
  {
   "cell_type": "code",
   "execution_count": 18,
   "id": "44a26a77",
   "metadata": {},
   "outputs": [],
   "source": [
    "# the character can either mean \"match zero or one of the preceding group\"\n",
    "# or be used to signify nongreedy matching."
   ]
  },
  {
   "cell_type": "code",
   "execution_count": 19,
   "id": "5b85c52b",
   "metadata": {},
   "outputs": [],
   "source": [
    "#10"
   ]
  },
  {
   "cell_type": "code",
   "execution_count": 20,
   "id": "8c9e463f",
   "metadata": {},
   "outputs": [],
   "source": [
    "# the + matches one or more. the * matches zero or more."
   ]
  },
  {
   "cell_type": "code",
   "execution_count": 21,
   "id": "d61da415",
   "metadata": {},
   "outputs": [],
   "source": [
    "#11"
   ]
  },
  {
   "cell_type": "code",
   "execution_count": 22,
   "id": "dda79646",
   "metadata": {},
   "outputs": [],
   "source": [
    "# the{4} matches exactly three instance of the preceding group.\n",
    "# the {4,5} matches between four and five instances."
   ]
  },
  {
   "cell_type": "code",
   "execution_count": 23,
   "id": "cf1ec4a1",
   "metadata": {},
   "outputs": [],
   "source": [
    "#12"
   ]
  },
  {
   "cell_type": "code",
   "execution_count": 24,
   "id": "2be8aa6f",
   "metadata": {},
   "outputs": [],
   "source": [
    "# \\d,\\w, and \\s shorthand character classes matches a single digit, \n",
    "# word, or space character.\n"
   ]
  },
  {
   "cell_type": "code",
   "execution_count": 25,
   "id": "1db47217",
   "metadata": {},
   "outputs": [],
   "source": [
    "#13"
   ]
  },
  {
   "cell_type": "code",
   "execution_count": 26,
   "id": "7c200464",
   "metadata": {},
   "outputs": [],
   "source": [
    "# the \\D,\\W, and \\S shorthand character classes match a single character that is not a digit, word, or \n",
    "# space character"
   ]
  },
  {
   "cell_type": "code",
   "execution_count": 40,
   "id": "e2ca2fb7",
   "metadata": {},
   "outputs": [],
   "source": [
    "#16"
   ]
  },
  {
   "cell_type": "code",
   "execution_count": 28,
   "id": "920a926c",
   "metadata": {},
   "outputs": [],
   "source": [
    "# passing re.I or re.IGNORECASE as the second argument to re.compile()\n",
    "# will make the matching case insensitive"
   ]
  },
  {
   "cell_type": "code",
   "execution_count": 32,
   "id": "ef0a7952",
   "metadata": {},
   "outputs": [],
   "source": [
    "#17"
   ]
  },
  {
   "cell_type": "code",
   "execution_count": 30,
   "id": "97d54e1a",
   "metadata": {},
   "outputs": [],
   "source": [
    "#The . character normally matches any character except the newline character. \n",
    "#If re.DOTALL is passed as the second argument to re.compile(), then the dot will also\n",
    "#match newline characters."
   ]
  },
  {
   "cell_type": "code",
   "execution_count": 33,
   "id": "7ae3956b",
   "metadata": {},
   "outputs": [],
   "source": [
    "#18"
   ]
  },
  {
   "cell_type": "code",
   "execution_count": 34,
   "id": "54085271",
   "metadata": {},
   "outputs": [],
   "source": [
    "# 'X drummers, X pipers, five rings, X hens'"
   ]
  },
  {
   "cell_type": "code",
   "execution_count": 35,
   "id": "588e82ee",
   "metadata": {},
   "outputs": [],
   "source": [
    "#19"
   ]
  },
  {
   "cell_type": "code",
   "execution_count": 36,
   "id": "9f77363b",
   "metadata": {},
   "outputs": [],
   "source": [
    "# The re.VERBOSE argument allows you to add whitespace and comments\n",
    "# to the string passed to re.compile()."
   ]
  },
  {
   "cell_type": "code",
   "execution_count": 37,
   "id": "a648da9f",
   "metadata": {},
   "outputs": [],
   "source": [
    "#20 \n"
   ]
  },
  {
   "cell_type": "code",
   "execution_count": 38,
   "id": "44be6d5b",
   "metadata": {},
   "outputs": [],
   "source": [
    "# re.compile(r'^\\d{1,3}(,\\d{3})*$') will create this regex, but other\n",
    "# regex strings can produce a similar regular expression."
   ]
  },
  {
   "cell_type": "code",
   "execution_count": 39,
   "id": "c9feeb3f",
   "metadata": {},
   "outputs": [],
   "source": [
    "#22"
   ]
  },
  {
   "cell_type": "code",
   "execution_count": null,
   "id": "65e62b2f",
   "metadata": {},
   "outputs": [],
   "source": [
    "# re.compile(r'(Alice|Bob|Carol)\\s(eats|pets|throws)\\s(apples|cats|baseballs)\\.', re.IGNORECASE)"
   ]
  }
 ],
 "metadata": {
  "kernelspec": {
   "display_name": "Python 3 (ipykernel)",
   "language": "python",
   "name": "python3"
  },
  "language_info": {
   "codemirror_mode": {
    "name": "ipython",
    "version": 3
   },
   "file_extension": ".py",
   "mimetype": "text/x-python",
   "name": "python",
   "nbconvert_exporter": "python",
   "pygments_lexer": "ipython3",
   "version": "3.9.12"
  }
 },
 "nbformat": 4,
 "nbformat_minor": 5
}
